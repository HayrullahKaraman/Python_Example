{
  "nbformat": 4,
  "nbformat_minor": 0,
  "metadata": {
    "colab": {
      "provenance": [],
      "collapsed_sections": [],
      "authorship_tag": "ABX9TyOp8ji2kx6Sdihh+6LcGcMw",
      "include_colab_link": true
    },
    "kernelspec": {
      "name": "python3",
      "display_name": "Python 3"
    },
    "language_info": {
      "name": "python"
    }
  },
  "cells": [
    {
      "cell_type": "markdown",
      "metadata": {
        "id": "view-in-github",
        "colab_type": "text"
      },
      "source": [
        "<a href=\"https://colab.research.google.com/github/HayrullahKaraman/Python_Example/blob/main/Postfix_Example.ipynb\" target=\"_parent\"><img src=\"https://colab.research.google.com/assets/colab-badge.svg\" alt=\"Open In Colab\"/></a>"
      ]
    },
    {
      "cell_type": "code",
      "source": [
        "def postfix(text):\n",
        "\n",
        "    text=text.split()# Girilen değerleri boşluk ile ayırıyoruz\n",
        "\n",
        "    uzunluk=len(text)#Girilen değerin uzunluk bilgisini alyor  alınan bilgilerin icersinde bu uzunluk kadar döngü ile dönmek için\n",
        "\n",
        "    stack =[]#boş list oluşturuyoruz alınan değerler bu list içerisine atanacak\n",
        "\n",
        "    for i in range(uzunluk):\n",
        "       if text[i].isdigit():#alınan değer dgit rakamlar içeriyor ise \n",
        "\n",
        "          stack.append(int(text[i])) #Append ile Stack içerisine ekleme yapılıyor\n",
        "\n",
        "       elif text[i]==\"+\": # Eğer i değeri '+ ' ise\n",
        "\n",
        "            ilksayi=stack.pop()#Lifo mantığı olduğu için son üst değer ilksayıya eşitlenir\n",
        "\n",
        "            ikincisayi=stack.pop()#Lifo mantığı olduğu için 2.değer ikincisayıya eşitlenir\n",
        "\n",
        "            stack.append(int(ilksayi)+int(ikincisayi))#parantez içi ilk değer ile ikinci değer toplama işlemi yapılarak  stack içersine eklenir.\n",
        "\n",
        "       elif text[i]==\"*\":\n",
        "\n",
        "            ilksayi=stack.pop()\n",
        "\n",
        "            ikincisayi=stack.pop()\n",
        "\n",
        "            stack.append(int(ilksayi)*int(ikincisayi))#parantez içi ilk değer ile ikinci değer çarpma işlemi yapılarak sonucu stack içersine eklenir.\n",
        "\n",
        "       elif text[i]==\"/\":\n",
        "\n",
        "            ilksayi=stack.pop()\n",
        "\n",
        "            ikincisayi=stack.pop()\n",
        "\n",
        "            stack.append(int(ilksayi)/int(ikincisayi))#parantez içi ilk değer ile ikinci değer bölme işlemi yapılarak sonucu stack içersine eklenir.\n",
        "\n",
        "       elif text[i]==\"-\":\n",
        "\n",
        "            ilksayi=stack.pop()\n",
        "\n",
        "            ikincisayi=stack.pop()\n",
        "\n",
        "            stack.append(int(ilksayi)-int(ikincisayi))#parantez içi ilk değer ile ikinci değer bölme işlemi yapılarak sonucu stack içersine eklenir.\n",
        "           \n",
        "    return stack.pop()# Stack içerisinde yukarı tabi olan işlm geri döndürülerek bir sonraki işleme gecer."
      ],
      "metadata": {
        "id": "qahPzed1jWBj"
      },
      "execution_count": null,
      "outputs": []
    },
    {
      "cell_type": "code",
      "execution_count": null,
      "metadata": {
        "colab": {
          "base_uri": "https://localhost:8080/"
        },
        "id": "nJ8Rn2KzjRJ2",
        "outputId": "5b27224c-e538-4423-9d88-5f7427e51900"
      },
      "outputs": [
        {
          "name": "stdout",
          "output_type": "stream",
          "text": [
            "Postfix Notasyonuna uygun rakam ve operetör giriniz (Boşluk ile ayırılması gerekmektedir) : 2 3 + 6 * 5 * \n"
          ]
        },
        {
          "output_type": "execute_result",
          "data": {
            "text/plain": [
              "150"
            ]
          },
          "metadata": {},
          "execution_count": 4
        }
      ],
      "source": [
        "inputs = input(\"Postfix Notasyonuna uygun rakam ve operetör giriniz (Boşluk ile ayırılması gerekmektedir) : \")\n",
        "postfix(inputs)"
      ]
    }
  ]
}