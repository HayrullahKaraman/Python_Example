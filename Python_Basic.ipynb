{
 "cells": [
  {
   "cell_type": "code",
   "execution_count": 4,
   "id": "56816d5d",
   "metadata": {},
   "outputs": [
    {
     "name": "stdout",
     "output_type": "stream",
     "text": [
      "Pyhton Version :  3.9.7 (default, Sep 16 2021, 16:59:28) [MSC v.1916 64 bit (AMD64)]\n"
     ]
    }
   ],
   "source": [
    "import sys\n",
    "print('Pyhton Version : ',sys.version)"
   ]
  },
  {
   "cell_type": "code",
   "execution_count": 99,
   "id": "814d1d6f",
   "metadata": {},
   "outputs": [
    {
     "name": "stdout",
     "output_type": "stream",
     "text": [
      "The Zen of Python, by Tim Peters\n",
      "\n",
      "Beautiful is better than ugly.\n",
      "Explicit is better than implicit.\n",
      "Simple is better than complex.\n",
      "Complex is better than complicated.\n",
      "Flat is better than nested.\n",
      "Sparse is better than dense.\n",
      "Readability counts.\n",
      "Special cases aren't special enough to break the rules.\n",
      "Although practicality beats purity.\n",
      "Errors should never pass silently.\n",
      "Unless explicitly silenced.\n",
      "In the face of ambiguity, refuse the temptation to guess.\n",
      "There should be one-- and preferably only one --obvious way to do it.\n",
      "Although that way may not be obvious at first unless you're Dutch.\n",
      "Now is better than never.\n",
      "Although never is often better than *right* now.\n",
      "If the implementation is hard to explain, it's a bad idea.\n",
      "If the implementation is easy to explain, it may be a good idea.\n",
      "Namespaces are one honking great idea -- let's do more of those!\n"
     ]
    }
   ],
   "source": [
    "import this"
   ]
  },
  {
   "cell_type": "code",
   "execution_count": 6,
   "id": "b2255849",
   "metadata": {},
   "outputs": [
    {
     "name": "stdout",
     "output_type": "stream",
     "text": [
      "integer  <class 'int'>\n",
      "float  <class 'float'>\n",
      "string  <class 'str'>\n",
      "Boolean  <class 'bool'>\n"
     ]
    }
   ],
   "source": [
    "print('integer ', type(1))\n",
    "print('float ', type(1.5))\n",
    "print('string ', type('Reksi'))\n",
    "print('Boolean ', type(False))"
   ]
  },
  {
   "cell_type": "markdown",
   "id": "29d68cff",
   "metadata": {},
   "source": [
    "### Tuple"
   ]
  },
  {
   "cell_type": "code",
   "execution_count": 10,
   "id": "4e896d7a",
   "metadata": {},
   "outputs": [
    {
     "name": "stdout",
     "output_type": "stream",
     "text": [
      "(1, 'Masal', 2, 'Reksi', 3, 'Duygu') <class 'tuple'>\n",
      "1\n"
     ]
    }
   ],
   "source": [
    "#Example Tuple\n",
    "example_tuple=(1,'Masal',2,'Reksi',3,'Duygu')\n",
    "print(example_tuple,type(example_tuple))\n",
    "#first index is zero\n",
    "print(example_tuple[0])"
   ]
  },
  {
   "cell_type": "code",
   "execution_count": 19,
   "id": "e817e7c8",
   "metadata": {},
   "outputs": [
    {
     "name": "stdout",
     "output_type": "stream",
     "text": [
      "(1, 'Masal', 2)\n",
      "(1, 2, 3)\n",
      "Duygu\n"
     ]
    },
    {
     "ename": "TypeError",
     "evalue": "'tuple' object does not support item assignment",
     "output_type": "error",
     "traceback": [
      "\u001b[1;31m---------------------------------------------------------------------------\u001b[0m",
      "\u001b[1;31mTypeError\u001b[0m                                 Traceback (most recent call last)",
      "Input \u001b[1;32mIn [19]\u001b[0m, in \u001b[0;36m<cell line: 7>\u001b[1;34m()\u001b[0m\n\u001b[0;32m      5\u001b[0m \u001b[38;5;28mprint\u001b[39m(example_tuple[\u001b[38;5;241m-\u001b[39m\u001b[38;5;241m1\u001b[39m])\n\u001b[0;32m      6\u001b[0m \u001b[38;5;66;03m#Tuple incommutable \u001b[39;00m\n\u001b[1;32m----> 7\u001b[0m example_tuple[\u001b[38;5;241m0\u001b[39m] \u001b[38;5;241m=\u001b[39m\u001b[38;5;124m'\u001b[39m\u001b[38;5;124mhayru\u001b[39m\u001b[38;5;124m'\u001b[39m\n",
      "\u001b[1;31mTypeError\u001b[0m: 'tuple' object does not support item assignment"
     ]
    }
   ],
   "source": [
    "#tuple index (First index : last index : jump index)\n",
    "print(example_tuple[0:3])\n",
    "print(example_tuple[::2])\n",
    "#Last index\n",
    "print(example_tuple[-1])\n",
    "#Tuple incommutable \n",
    "example_tuple[0] ='hayru'"
   ]
  },
  {
   "cell_type": "markdown",
   "id": "3d6eda2e",
   "metadata": {},
   "source": [
    "### List"
   ]
  },
  {
   "cell_type": "code",
   "execution_count": 36,
   "id": "5ce12f74",
   "metadata": {},
   "outputs": [
    {
     "name": "stdout",
     "output_type": "stream",
     "text": [
      "<class 'list'>\n",
      "[1, [2, 3, 4], 3, 4]\n",
      "HAYRU\n",
      "[1, 'HAYRU', 3, 4, 5, 6]\n",
      "[1, 'HAYRU', 3, 4, 5, 6, 'Reksi']\n",
      "['HAYRU', 3, 4, 5, 6, 'Reksi']\n"
     ]
    }
   ],
   "source": [
    "#example List\n",
    "example_list = [1,[2,3,4],3,4,5,6]\n",
    "print(type(example_list))\n",
    "#fisrt fou4 list\n",
    "print(example_list[:4])\n",
    "#List is Modified\n",
    "example_list[1] = 'HAYRU'\n",
    "print(example_list[1])\n",
    "print(example_list)\n",
    "#list data add  and remove\n",
    "example_list.append('Reksi')\n",
    "print(example_list)\n",
    "example_list.remove(1)\n",
    "print(example_list)"
   ]
  },
  {
   "cell_type": "markdown",
   "id": "1cc3d235",
   "metadata": {},
   "source": [
    "### SET"
   ]
  },
  {
   "cell_type": "code",
   "execution_count": 48,
   "id": "71ed4614",
   "metadata": {},
   "outputs": [
    {
     "name": "stdout",
     "output_type": "stream",
     "text": [
      "[1, 2, 3, 4, 5, 5, 7, 8, 6, 2, 7]\n",
      "{1, 2, 3, 4, 5, 6, 7, 8}\n",
      "Union set {1, 2, 3, 4, 5, 6, 7}\n",
      "Intersect set {2, 3, 4}\n"
     ]
    }
   ],
   "source": [
    "#sets is reguler it use {}\n",
    "list_to_be_made_a_set = [1,2,3,4,5,5,7,8,6,2,7]\n",
    "print(list_to_be_made_a_set)#list format\n",
    "\n",
    "#list is convertable to set\n",
    "new_set = set(list_to_be_made_a_set)\n",
    "print(new_set)\n",
    "\n",
    "#set union and Intersect cluster example \n",
    "set_A = {1,2,3,4} \n",
    "set_B = {2,3,4,5,6,7}\n",
    "print('Union set', set_A.union(set_B))\n",
    "print('Intersect set', set_A.intersection(set_B))"
   ]
  },
  {
   "cell_type": "code",
   "execution_count": 50,
   "id": "00c608c8",
   "metadata": {},
   "outputs": [
    {
     "ename": "TypeError",
     "evalue": "'set' object does not support item assignment",
     "output_type": "error",
     "traceback": [
      "\u001b[1;31m---------------------------------------------------------------------------\u001b[0m",
      "\u001b[1;31mTypeError\u001b[0m                                 Traceback (most recent call last)",
      "Input \u001b[1;32mIn [50]\u001b[0m, in \u001b[0;36m<cell line: 2>\u001b[1;34m()\u001b[0m\n\u001b[0;32m      1\u001b[0m \u001b[38;5;66;03m#set is immutable \u001b[39;00m\n\u001b[1;32m----> 2\u001b[0m set_A[\u001b[38;5;241m0\u001b[39m] \u001b[38;5;241m=\u001b[39m\u001b[38;5;241m2\u001b[39m\n",
      "\u001b[1;31mTypeError\u001b[0m: 'set' object does not support item assignment"
     ]
    }
   ],
   "source": [
    "#set is immutable \n",
    "set_A[0] =2"
   ]
  },
  {
   "cell_type": "code",
   "execution_count": 45,
   "id": "cde9fc26",
   "metadata": {},
   "outputs": [
    {
     "ename": "AttributeError",
     "evalue": "'list' object has no attribute 'union'",
     "output_type": "error",
     "traceback": [
      "\u001b[1;31m---------------------------------------------------------------------------\u001b[0m",
      "\u001b[1;31mAttributeError\u001b[0m                            Traceback (most recent call last)",
      "Input \u001b[1;32mIn [45]\u001b[0m, in \u001b[0;36m<cell line: 5>\u001b[1;34m()\u001b[0m\n\u001b[0;32m      3\u001b[0m list_A \u001b[38;5;241m=\u001b[39m [\u001b[38;5;241m1\u001b[39m,\u001b[38;5;241m2\u001b[39m,\u001b[38;5;241m3\u001b[39m,\u001b[38;5;241m4\u001b[39m]\n\u001b[0;32m      4\u001b[0m list_B \u001b[38;5;241m=\u001b[39m [\u001b[38;5;241m2\u001b[39m,\u001b[38;5;241m3\u001b[39m,\u001b[38;5;241m4\u001b[39m,\u001b[38;5;241m5\u001b[39m,\u001b[38;5;241m6\u001b[39m,\u001b[38;5;241m7\u001b[39m]\n\u001b[1;32m----> 5\u001b[0m \u001b[38;5;28mprint\u001b[39m(\u001b[38;5;124m'\u001b[39m\u001b[38;5;124mUnion set\u001b[39m\u001b[38;5;124m'\u001b[39m, \u001b[43mlist_A\u001b[49m\u001b[38;5;241;43m.\u001b[39;49m\u001b[43munion\u001b[49m(list_B))\n\u001b[0;32m      6\u001b[0m \u001b[38;5;28mprint\u001b[39m(\u001b[38;5;124m'\u001b[39m\u001b[38;5;124mIntersect set\u001b[39m\u001b[38;5;124m'\u001b[39m, list_A\u001b[38;5;241m.\u001b[39mintersection(list_B))\n",
      "\u001b[1;31mAttributeError\u001b[0m: 'list' object has no attribute 'union'"
     ]
    }
   ],
   "source": [
    "#Arttribute error example\n",
    "\n",
    "list_A = [1,2,3,4]\n",
    "list_B = [2,3,4,5,6,7]\n",
    "print('Union set', list_A.union(list_B))\n",
    "print('Intersect set', list_A.intersection(list_B))"
   ]
  },
  {
   "cell_type": "markdown",
   "id": "30f976e5",
   "metadata": {},
   "source": [
    "### Dictionaries"
   ]
  },
  {
   "cell_type": "code",
   "execution_count": 59,
   "id": "26c9d76c",
   "metadata": {},
   "outputs": [
    {
     "name": "stdout",
     "output_type": "stream",
     "text": [
      "2\n"
     ]
    }
   ],
   "source": [
    "# Dictionary is use Key /Value and use {}, it likes libary\n",
    "dic = {'IT Printer' : 1, 'Finance Printer' : 2 , 'Manager Printer' : 3}\n",
    "print(dic['Finance Printer'])"
   ]
  },
  {
   "cell_type": "code",
   "execution_count": 95,
   "id": "740ec6ee",
   "metadata": {},
   "outputs": [
    {
     "name": "stdout",
     "output_type": "stream",
     "text": [
      "Backbone switchs racks [2, 3, 4]\n",
      "Cisco switchs racks [5, 6, 7]\n",
      "HP switchs racks [6, 7]\n"
     ]
    }
   ],
   "source": [
    "#System Cabinet example\n",
    "system_cabin = {'Cisco Router ': 2, 'Backbone Switch ': [2,3,4], 'Rear Switch':{'Hp Swicth':[6,7],'Cisco Switch':[5,6,7]} }\n",
    "print('Backbone switchs racks',system_cabin['Backbone Switch '])\n",
    "print('Cisco switchs racks',system_cabin['Rear Switch']['Cisco Switch'])\n",
    "print('HP switchs racks',system_cabin['Rear Switch']['Hp Swicth'])"
   ]
  },
  {
   "cell_type": "code",
   "execution_count": 96,
   "id": "9219c63e",
   "metadata": {},
   "outputs": [
    {
     "name": "stdout",
     "output_type": "stream",
     "text": [
      "Cisco Router  2\n",
      "Backbone Switch  [2, 3, 4]\n",
      "Rear Switch {'Hp Swicth': [6, 7], 'Cisco Switch': [5, 6, 7]}\n",
      "Firewall racks [9]\n"
     ]
    }
   ],
   "source": [
    "#Dictionary det a tuple key and value\n",
    "system_cabin[('Firewall racks')] = [9]\n",
    "for key, value in system_cabin.items():\n",
    "    print(key,value)"
   ]
  },
  {
   "cell_type": "code",
   "execution_count": 98,
   "id": "385570ee",
   "metadata": {},
   "outputs": [
    {
     "name": "stdout",
     "output_type": "stream",
     "text": [
      "Keys :  dict_keys(['Cisco Router ', 'Backbone Switch ', 'Rear Switch', 'Firewall racks'])\n",
      "Values :  dict_values([2, [2, 3, 4], {'Hp Swicth': [6, 7], 'Cisco Switch': [5, 6, 7]}, [9]])\n"
     ]
    }
   ],
   "source": [
    "#print('Keys : ' ,system_cabin.popitem())#last in first out\n",
    "print('Keys : ' ,system_cabin.keys())\n",
    "print('Values : ',system_cabin.values())"
   ]
  },
  {
   "cell_type": "markdown",
   "id": "f26ce67d",
   "metadata": {},
   "source": [
    "### If block"
   ]
  },
  {
   "cell_type": "code",
   "execution_count": 103,
   "id": "e349382b",
   "metadata": {},
   "outputs": [
    {
     "name": "stdout",
     "output_type": "stream",
     "text": [
      "Number is smallest than 15\n",
      "Number is smallest than 20\n",
      "########################################################\n"
     ]
    }
   ],
   "source": [
    "#İf is decision control\n",
    "number = 10\n",
    "if number < 5:\n",
    "    print('Number is smallest than 5')\n",
    "if number < 10:\n",
    "    print('Number is smallest than 10')\n",
    "if number < 15:\n",
    "    print('Number is smallest than 15')\n",
    "if number < 20:\n",
    "    print('Number is smallest than 20')\n",
    "    \n",
    "print('########################################################')"
   ]
  },
  {
   "cell_type": "code",
   "execution_count": 105,
   "id": "cb444bcb",
   "metadata": {},
   "outputs": [
    {
     "name": "stdout",
     "output_type": "stream",
     "text": [
      "we dont found biggest\n"
     ]
    }
   ],
   "source": [
    "a = 10\n",
    "b = 13\n",
    "c = 12\n",
    "d = 20\n",
    "if a > b:\n",
    "    print('a is biggist the b')\n",
    "elif c > b:\n",
    "    print('b is biggist the c')\n",
    "else:\n",
    "    print('we dont found biggest')"
   ]
  }
 ],
 "metadata": {
  "kernelspec": {
   "display_name": "Python 3 (ipykernel)",
   "language": "python",
   "name": "python3"
  },
  "language_info": {
   "codemirror_mode": {
    "name": "ipython",
    "version": 3
   },
   "file_extension": ".py",
   "mimetype": "text/x-python",
   "name": "python",
   "nbconvert_exporter": "python",
   "pygments_lexer": "ipython3",
   "version": "3.9.7"
  }
 },
 "nbformat": 4,
 "nbformat_minor": 5
}
