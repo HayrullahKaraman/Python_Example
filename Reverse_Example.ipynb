{
  "nbformat": 4,
  "nbformat_minor": 0,
  "metadata": {
    "colab": {
      "provenance": [],
      "collapsed_sections": [],
      "authorship_tag": "ABX9TyOIMXJmHGpceVQiejkw0H+2",
      "include_colab_link": true
    },
    "kernelspec": {
      "name": "python3",
      "display_name": "Python 3"
    },
    "language_info": {
      "name": "python"
    }
  },
  "cells": [
    {
      "cell_type": "markdown",
      "metadata": {
        "id": "view-in-github",
        "colab_type": "text"
      },
      "source": [
        "<a href=\"https://colab.research.google.com/github/HayrullahKaraman/Python_Example/blob/master/Reverse_Example.ipynb\" target=\"_parent\"><img src=\"https://colab.research.google.com/assets/colab-badge.svg\" alt=\"Open In Colab\"/></a>"
      ]
    },
    {
      "cell_type": "markdown",
      "source": [
        "Özyinelemi fonksiyon ile kullanım"
      ],
      "metadata": {
        "id": "xrheAu7SRrwJ"
      }
    },
    {
      "cell_type": "code",
      "execution_count": 1,
      "metadata": {
        "id": "aK2UgWHaOz0Q"
      },
      "outputs": [],
      "source": [
        "def reverse(ters):\n",
        "    if len(ters) == 0:\n",
        "        return ters #sıfır eşit ise aynı değer dönuyor\n",
        "    else:\n",
        "        return reverse(ters[1:]) + ters[0]#reverse fonksiyonu özyineleme olarak kendini çağırır.\n",
        "        #ters[1:] diznin 1. karakterini başa atar , ters[0] dzinin sıfırını  karakterini sona atar"
      ]
    },
    {
      "cell_type": "code",
      "source": [
        "girilendeger=input('Lütfen ters cevrilecek karakter giriniz:        ')\n",
        "if girilendeger.isdigit() == True:#değer rakam ise karakter girilmesi uyarısı veriyoruz değer sitring mi integer kontrol ediyoruz\n",
        "  print('Karakter giriniz')\n",
        "else:\n",
        "  print(reverse(girilendeger))#Fonksiyona girilen değeri atıyoruz."
      ],
      "metadata": {
        "colab": {
          "base_uri": "https://localhost:8080/"
        },
        "id": "Ykq5V0CyXOTx",
        "outputId": "f11c37e6-3497-42ee-cd51-97e00560fa8c"
      },
      "execution_count": 2,
      "outputs": [
        {
          "output_type": "stream",
          "name": "stdout",
          "text": [
            "Lütfen ters cevrilecek karakter giriniz:        hayru\n",
            "uryah\n"
          ]
        }
      ]
    },
    {
      "cell_type": "markdown",
      "source": [
        "Özyineleme kullanmadan uygulanışı"
      ],
      "metadata": {
        "id": "on8oMh9hb9EK"
      }
    },
    {
      "cell_type": "code",
      "source": [
        "alinankarakter=input('Lütfen ters cevrilecek karakter giriniz:        ')\n",
        "uzunluk=len(alinankarakter)\n",
        "terskarakter=''\n",
        "if alinankarakter.isdigit() == True:\n",
        "  print('Karakter giriniz')\n",
        "else:\n",
        "  for i in range(uzunluk-1,-1,-1):#Uzunluk-1 index sıfır olduğu için toplam uzunluğun 1 eksiği kadar hesaplasın ve -1(eksi bire kadar),-1 geriye doğru bir karakter gitsin şeklinde.\n",
        "    terskarakter += alinankarakter[i]\n",
        "print(terskarakter)"
      ],
      "metadata": {
        "id": "ocx2wm2LcBrH",
        "colab": {
          "base_uri": "https://localhost:8080/"
        },
        "outputId": "2a8bbb28-08e5-4c9b-ec96-be7d184d172d"
      },
      "execution_count": 3,
      "outputs": [
        {
          "output_type": "stream",
          "name": "stdout",
          "text": [
            "Lütfen ters cevrilecek karakter giriniz:        masal\n",
            "lasam\n"
          ]
        }
      ]
    }
  ]
}