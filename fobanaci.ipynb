{
  "nbformat": 4,
  "nbformat_minor": 0,
  "metadata": {
    "colab": {
      "provenance": [],
      "collapsed_sections": [],
      "authorship_tag": "ABX9TyMTjBm+aYzx4IiXOHsEswK0",
      "include_colab_link": true
    },
    "kernelspec": {
      "name": "python3",
      "display_name": "Python 3"
    },
    "language_info": {
      "name": "python"
    }
  },
  "cells": [
    {
      "cell_type": "markdown",
      "metadata": {
        "id": "view-in-github",
        "colab_type": "text"
      },
      "source": [
        "<a href=\"https://colab.research.google.com/github/HayrullahKaraman/Python_Example/blob/main/fobanaci.ipynb\" target=\"_parent\"><img src=\"https://colab.research.google.com/assets/colab-badge.svg\" alt=\"Open In Colab\"/></a>"
      ]
    },
    {
      "cell_type": "code",
      "execution_count": 1,
      "metadata": {
        "colab": {
          "base_uri": "https://localhost:8080/"
        },
        "id": "C6xtdMUIFXxb",
        "outputId": "8cee92cf-53ce-43ba-f8cc-0d84491c9c70"
      },
      "outputs": [
        {
          "output_type": "stream",
          "name": "stdout",
          "text": [
            "değer giriniz 16\n",
            "1597\n"
          ]
        }
      ],
      "source": [
        "n=int(input('değer giriniz '))\n",
        "def fun(n):\n",
        "  if n<=1:\n",
        "    return 1\n",
        "  else:\n",
        "    return fun(n-2)+fun(n-1)\n",
        "print(fun(n))"
      ]
    }
  ]
}