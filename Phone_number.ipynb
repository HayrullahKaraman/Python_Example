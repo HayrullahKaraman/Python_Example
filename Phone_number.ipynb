{
 "cells": [
  {
   "cell_type": "code",
   "execution_count": 3,
   "id": "1abe4f3f",
   "metadata": {},
   "outputs": [],
   "source": [
    "import random"
   ]
  },
  {
   "cell_type": "code",
   "execution_count": 4,
   "id": "80ff7a43",
   "metadata": {},
   "outputs": [],
   "source": [
    "def phone_number():\n",
    "    first_number = 555 # it constant block\n",
    "    second= [111,222,333,123,132,213,231,312,321]# its list for second block ,it created manuel\n",
    "    second_number =random.sample(second,1)#random libary use random selection on second list\n",
    "    third_number = random.sample(range(0,9),4)#Random libary create random integer number, it is between 0-9 \n",
    "    \n",
    "    print(first_number,end='-')# it is - to put\n",
    "    for second in second_number:#loop in second list\n",
    "        print(second, end='')  \n",
    "    print(end='-')\n",
    "    for third in third_number:#loop it random third number\n",
    "        print(third, end='')\n",
    "   "
   ]
  },
  {
   "cell_type": "code",
   "execution_count": 6,
   "id": "ba34a31d",
   "metadata": {},
   "outputs": [
    {
     "name": "stdout",
     "output_type": "stream",
     "text": [
      "\n",
      "555-213-1563\n",
      "555-231-7082\n",
      "555-312-2360\n",
      "555-123-4672\n",
      "555-222-0317\n",
      "555-321-7046\n",
      "555-132-7408\n",
      "555-132-0176\n",
      "555-111-4217\n",
      "555-123-2347\n",
      "555-213-2543\n",
      "555-132-2316\n",
      "555-123-2786\n",
      "555-312-8342\n",
      "555-312-8702\n",
      "555-111-6034\n",
      "555-213-8472\n",
      "555-333-8374\n",
      "555-132-5801\n",
      "555-132-3785\n",
      "555-231-0182\n",
      "555-123-3762\n",
      "555-231-1530\n",
      "555-132-5187\n",
      "555-213-3178\n",
      "555-333-1834\n",
      "555-321-2583\n",
      "555-123-0815\n",
      "555-312-0243\n",
      "555-123-6152\n",
      "555-132-5724\n",
      "555-111-3486\n",
      "555-231-4176\n",
      "555-213-5034\n",
      "555-312-7604\n",
      "555-213-8516\n",
      "555-222-5167\n",
      "555-321-2461\n",
      "555-213-6275\n",
      "555-312-1760\n",
      "555-231-0641\n",
      "555-123-6728\n",
      "555-333-8215\n",
      "555-333-0235\n",
      "555-333-0312\n",
      "555-321-4653\n",
      "555-312-6235\n",
      "555-123-2084\n",
      "555-132-1843\n",
      "555-333-0123"
     ]
    }
   ],
   "source": [
    "control = 0\n",
    "while (control < 50):#it controled to 50 pcs  printing\n",
    "    print(end='\\n')\n",
    "    phone_number()\n",
    "    control =control + 1"
   ]
  },
  {
   "cell_type": "code",
   "execution_count": null,
   "id": "f4f44605",
   "metadata": {},
   "outputs": [],
   "source": []
  }
 ],
 "metadata": {
  "kernelspec": {
   "display_name": "Python 3 (ipykernel)",
   "language": "python",
   "name": "python3"
  },
  "language_info": {
   "codemirror_mode": {
    "name": "ipython",
    "version": 3
   },
   "file_extension": ".py",
   "mimetype": "text/x-python",
   "name": "python",
   "nbconvert_exporter": "python",
   "pygments_lexer": "ipython3",
   "version": "3.9.7"
  }
 },
 "nbformat": 4,
 "nbformat_minor": 5
}
